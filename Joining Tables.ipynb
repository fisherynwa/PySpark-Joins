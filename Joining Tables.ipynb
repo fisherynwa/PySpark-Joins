{
 "cells": [
  {
   "cell_type": "markdown",
   "metadata": {
    "application/vnd.databricks.v1+cell": {
     "cellMetadata": {},
     "inputWidgets": {},
     "nuid": "3299b995-14ea-42bd-b282-1b3858c48236",
     "showTitle": false,
     "tableResultSettingsMap": {},
     "title": ""
    }
   },
   "source": [
    "# ETL Pipeline: Joining Geographic Data (Countries, Regions, Sub-Regions)"
   ]
  },
  {
   "cell_type": "code",
   "execution_count": 0,
   "metadata": {
    "application/vnd.databricks.v1+cell": {
     "cellMetadata": {
      "byteLimit": 2048000,
      "rowLimit": 10000
     },
     "inputWidgets": {},
     "nuid": "5a3a39a7-28f0-4f3b-a16e-bcc3e5f697f2",
     "showTitle": false,
     "tableResultSettingsMap": {},
     "title": ""
    }
   },
   "outputs": [],
   "source": [
    "\"\"\" \n",
    "             ┌──────────────────────────────┐\n",
    "             │         df_regions\n",
    "             │  (load and select)           │\n",
    "             │  id        |   region        │\n",
    "             └────────────┴─────────────────┘\n",
    "                       ▲\n",
    "                       │ (df_countries.region_id = df_regions.id)\n",
    "                       │\n",
    "┌─────────────────────────────┐\n",
    "│        df_countries         │ \n",
    "│   (load and select)         │\n",
    "│  country_id   |   country   │\n",
    "│  region_id    |   sub_region_id\n",
    "│  population   |   area_km2  │\n",
    "└───────────────┴─────────────┘\n",
    "                       │\n",
    "                       │ (df_countries.sub_region_id = df_sub_regions.id)\n",
    "                       ▼\n",
    "             ┌─────────────────────────────┐\n",
    "             │       df_sub_regions        │\n",
    "             │  id        |   sub_region   │\n",
    "             └────────────┴────────────────┘\n",
    " \"\"\"\n",
    "print(\"The following cells execute this scheme given above ^^^^\")"
   ]
  },
  {
   "cell_type": "markdown",
   "metadata": {
    "application/vnd.databricks.v1+cell": {
     "cellMetadata": {},
     "inputWidgets": {},
     "nuid": "c0f1c58b-cbfd-4942-92ea-ad487d186b41",
     "showTitle": false,
     "tableResultSettingsMap": {},
     "title": ""
    }
   },
   "source": [
    "First, load a CSV of country data, perform a clean schema (it is efficient and defines types for each column), select only useful columns, rename some of them for clarity, and display the result in a notebook"
   ]
  },
  {
   "cell_type": "code",
   "execution_count": 0,
   "metadata": {
    "application/vnd.databricks.v1+cell": {
     "cellMetadata": {
      "byteLimit": 2048000,
      "rowLimit": 10000
     },
     "inputWidgets": {},
     "nuid": "741799dd-e3f0-4903-aacf-ea7e4ed464e7",
     "showTitle": false,
     "tableResultSettingsMap": {},
     "title": ""
    }
   },
   "outputs": [],
   "source": [
    "from pyspark.sql.functions import col\n",
    "from pyspark.sql.types import StructType, StructField, StringType, IntegerType, DoubleType\n",
    "\n",
    "# Explicitely define the country schema -- a schema is useful since it provides significant performance improvements \n",
    "# (PySpark does not infer the schema; saving time), ensures (explicit) data quality, and prevents errors during processing \n",
    "schema_countries = StructType([\n",
    "  StructField(\"country_id\", IntegerType(), True),\n",
    "  StructField(\"name\", StringType(), True),\n",
    "  StructField(\"nationality\", StringType(), True),\n",
    "  StructField(\"country_code\", StringType(), True),\n",
    "  StructField(\"iso_alpha2\", StringType(), True),\n",
    "  StructField(\"capital\", StringType(), True),\n",
    "  StructField(\"population\", IntegerType(), True),\n",
    "  StructField(\"area_km2\", IntegerType(), True),\n",
    "  StructField(\"region_id\", IntegerType(), True),\n",
    "  StructField(\"sub_region_id\", IntegerType(), True)])\n",
    "\n",
    "\n",
    "df_countries = spark.read.csv(\"/Volumes/customer_orders/default/countries/countries_population.csv\", header=True, schema=schema_countries).\\\n",
    "  select(\"country_id\", col(\"name\").alias(\"country\"), \"region_id\", \"sub_region_id\", \"population\", \"area_km2\")\n",
    " \n",
    "df_countries.show(5)\n"
   ]
  },
  {
   "cell_type": "code",
   "execution_count": 0,
   "metadata": {
    "application/vnd.databricks.v1+cell": {
     "cellMetadata": {
      "byteLimit": 2048000,
      "rowLimit": 10000
     },
     "inputWidgets": {},
     "nuid": "61eade0a-3523-4fec-8571-a82b9d2cefdd",
     "showTitle": false,
     "tableResultSettingsMap": {},
     "title": ""
    }
   },
   "outputs": [],
   "source": [
    "schema_regions = StructType([\n",
    "  StructField(\"id\", IntegerType(), True),\n",
    "  StructField(\"name\", StringType(), True)\n",
    "])\n",
    "df_regions =  spark.read.csv(\"/Volumes/customer_orders/default/countries/country_regions.csv\", header=True, schema=schema_regions).select(\"id\", col(\"name\").alias(\"region\"))\n",
    "\n",
    "df_regions.show(5)\n"
   ]
  },
  {
   "cell_type": "code",
   "execution_count": 0,
   "metadata": {
    "application/vnd.databricks.v1+cell": {
     "cellMetadata": {
      "byteLimit": 2048000,
      "rowLimit": 10000
     },
     "inputWidgets": {},
     "nuid": "a24388cb-1d7e-48a0-b873-65ae2e6193b2",
     "showTitle": false,
     "tableResultSettingsMap": {},
     "title": ""
    }
   },
   "outputs": [],
   "source": [
    "schema_sub_regions = StructType([\n",
    "  StructField(\"id\", IntegerType(), True),\n",
    "  StructField(\"name\", StringType(), True)\n",
    "])\n",
    "\n",
    "df_sub_regions = spark.read.csv(\"/Volumes/customer_orders/default/countries/country_sub_regions.csv\", header=True,\n",
    "                               schema = schema_sub_regions). \\\n",
    "                                 select(\"id\", col(\"name\").alias(\"sub_region\"))\n",
    "df_sub_regions.show()\n"
   ]
  },
  {
   "cell_type": "markdown",
   "metadata": {
    "application/vnd.databricks.v1+cell": {
     "cellMetadata": {},
     "inputWidgets": {},
     "nuid": "12bc0138-ede8-4464-93f0-9df2754190bd",
     "showTitle": false,
     "tableResultSettingsMap": {},
     "title": ""
    }
   },
   "source": [
    "The main cell of the notebook joins the three DataFrames by means of the region_id and sub_region_id keys.\n",
    "\n",
    "This operation, denoted by the dot (.\\), allows us to chain multiple PySpark operations together."
   ]
  },
  {
   "cell_type": "code",
   "execution_count": 0,
   "metadata": {
    "application/vnd.databricks.v1+cell": {
     "cellMetadata": {
      "byteLimit": 2048000,
      "rowLimit": 10000
     },
     "inputWidgets": {},
     "nuid": "66465cb0-5638-47b7-8457-cf77c014195a",
     "showTitle": false,
     "tableResultSettingsMap": {},
     "title": ""
    }
   },
   "outputs": [],
   "source": [
    "\n",
    "df_joined = df_countries.join(df_regions, df_countries.region_id == df_regions.id, \"left\").\\\n",
    "  select(\"country_id\", \"country\", \"region\", \"population\", \"area_km2\", \"sub_region_id\").\\\n",
    "    join(df_sub_regions, df_countries.sub_region_id == df_sub_regions.id, \"left\").\\\n",
    "      select(\"country_id\", \"country\", \"region\", \"sub_region\", \"population\", \"area_km2\")"
   ]
  },
  {
   "cell_type": "code",
   "execution_count": 0,
   "metadata": {
    "application/vnd.databricks.v1+cell": {
     "cellMetadata": {
      "byteLimit": 2048000,
      "rowLimit": 10000
     },
     "inputWidgets": {},
     "nuid": "72eac781-8f83-4734-9245-1fe0566a82d6",
     "showTitle": false,
     "tableResultSettingsMap": {},
     "title": ""
    }
   },
   "outputs": [],
   "source": [
    "df_joined.show(5)\n"
   ]
  },
  {
   "cell_type": "code",
   "execution_count": 0,
   "metadata": {
    "application/vnd.databricks.v1+cell": {
     "cellMetadata": {
      "byteLimit": 2048000,
      "rowLimit": 10000
     },
     "inputWidgets": {},
     "nuid": "a1b089d7-f5ac-4cc2-9252-e9550d81f201",
     "showTitle": false,
     "tableResultSettingsMap": {},
     "title": ""
    }
   },
   "outputs": [],
   "source": [
    "#df_joined.write.saveAsTable(\"countries_consolidated\")\n"
   ]
  }
 ],
 "metadata": {
  "application/vnd.databricks.v1+notebook": {
   "computePreferences": null,
   "dashboards": [],
   "environmentMetadata": {
    "base_environment": "",
    "environment_version": "3"
   },
   "inputWidgetPreferences": null,
   "language": "python",
   "notebookMetadata": {
    "pythonIndentUnit": 4
   },
   "notebookName": "Joining Tables",
   "widgets": {}
  },
  "language_info": {
   "name": "python"
  }
 },
 "nbformat": 4,
 "nbformat_minor": 0
}
